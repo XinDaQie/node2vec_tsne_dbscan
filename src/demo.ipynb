{
 "cells": [
  {
   "cell_type": "code",
   "execution_count": 1,
   "id": "0a80dfc5",
   "metadata": {},
   "outputs": [],
   "source": [
    "import pandas as pd\n",
    "import numpy as np\n",
    "from tqdm import tqdm  # 在迭代时显示进度条\n",
    "\n",
    "\n",
    "# 使用pandas的read_json()方法读取JSON文件  \n",
    "matrix_2012 = pd.read_json('./Sectors_Carbon_Transfer/sector_carbon_transfer_2012.json')\n",
    "matrix_2015 = pd.read_json('./Sectors_Carbon_Transfer/sector_carbon_transfer_2015.json')\n",
    "matrix_2017 = pd.read_json('./Sectors_Carbon_Transfer/sector_carbon_transfer_2017.json')\n",
    "\n",
    "Area = [\"北京\", \"天津\", \"河北\", \"山西\", \"内蒙古\", \"辽宁\", \"吉林\", \"黑龙江\", \"上海\",\n",
    "        \"江苏\", \"浙江\", \"安徽\", \"福建\", \"江西\", \"山东\", \"河南\", \"湖北\", \"湖南\", \"广东\",\n",
    "        \"广西\", \"海南\", \"重庆\", \"四川\", \"贵州\", \"云南\", \"陕西\", \"甘肃\", \"青海\", \"宁夏\", \"新疆\"]\n",
    "arr = np.zeros((len(Area), len(Area)))\n",
    "provinces = pd.DataFrame(arr, index=Area, columns=Area)\n",
    "\n",
    "# 读取数据\n",
    "for i in tqdm(range(matrix_2017.shape[0])):\n",
    "    index = Area[i // 28]\n",
    "    for j in range(matrix_2017.shape[1]):\n",
    "        column = Area[j // 28]\n",
    "        provinces.loc[index, column] += matrix_2017.iloc[i, j]\n",
    "\n",
    "provinces.to_excel(\"./data/province_2017.xlsx\")\n",
    "\n"
   ]
  },
  {
   "cell_type": "code",
   "execution_count": 2,
   "id": "66b1fbf3",
   "metadata": {},
   "outputs": [
    {
     "name": "stdout",
     "output_type": "stream",
     "text": [
      "北京市           65.929589\n",
      "天津市          167.803477\n",
      "河北省          959.980859\n",
      "山西省          635.411573\n",
      "内蒙古自治区       860.342471\n",
      "辽宁省          552.060506\n",
      "吉林省          253.953720\n",
      "黑龙江省         281.788583\n",
      "上海市          162.744042\n",
      "江苏省         1161.757842\n",
      "浙江省          430.313731\n",
      "安徽省          537.939138\n",
      "福建省          286.649919\n",
      "江西省          355.043324\n",
      "山东省         1077.059580\n",
      "河南省          735.669618\n",
      "湖北省          339.571007\n",
      "湖南省          277.071232\n",
      "广东省          585.335305\n",
      "广西壮族自治区      292.683987\n",
      "海南省           38.497110\n",
      "重庆市          188.777327\n",
      "四川省          368.142026\n",
      "贵州省          312.118342\n",
      "云南省          220.461235\n",
      "陕西省          309.310379\n",
      "甘肃省          195.887346\n",
      "青海省           71.922291\n",
      "宁夏回族自治区      287.453344\n",
      "新疆维吾尔自治区     565.284757\n",
      "dtype: float64\n"
     ]
    }
   ],
   "source": [
    "# 计算矩阵的行和\n",
    "row_sums = np.sum(matrix_2017, axis=1)\n",
    "print(row_sums)"
   ]
  },
  {
   "cell_type": "code",
   "execution_count": 6,
   "id": "f9a7133b",
   "metadata": {},
   "outputs": [
    {
     "name": "stdout",
     "output_type": "stream",
     "text": [
      "北京市          284.488872\n",
      "天津市          206.054749\n",
      "河北省          769.413831\n",
      "山西省          455.835145\n",
      "内蒙古自治区       531.954717\n",
      "辽宁省          467.160089\n",
      "吉林省          252.007425\n",
      "黑龙江省         186.818697\n",
      "上海市          244.723474\n",
      "江苏省         1170.427934\n",
      "浙江省          708.243387\n",
      "安徽省          527.239676\n",
      "福建省          251.155931\n",
      "江西省          410.866290\n",
      "山东省          944.874600\n",
      "河南省          834.146449\n",
      "湖北省          340.311929\n",
      "湖南省          351.624405\n",
      "广东省          922.698600\n",
      "广西壮族自治区      267.781047\n",
      "海南省           59.121011\n",
      "重庆市          358.317280\n",
      "四川省          405.137638\n",
      "贵州省          286.116160\n",
      "云南省          245.894923\n",
      "陕西省          349.357388\n",
      "甘肃省          140.004054\n",
      "青海省           65.583848\n",
      "宁夏回族自治区      164.338320\n",
      "新疆维吾尔自治区     375.265790\n",
      "dtype: float64\n"
     ]
    }
   ],
   "source": [
    "# 计算矩阵的列和(碳流入)\n",
    "col_sums = np.sum(matrix_2017, axis=0)\n",
    "print(col_sums)"
   ]
  },
  {
   "cell_type": "code",
   "execution_count": 3,
   "id": "18c17c29",
   "metadata": {},
   "outputs": [
    {
     "name": "stdout",
     "output_type": "stream",
     "text": [
      "北京市           65.929589\n",
      "天津市          167.803477\n",
      "河北省          959.980859\n",
      "山西省          635.411573\n",
      "内蒙古自治区       860.342471\n",
      "辽宁省          552.060506\n",
      "吉林省          253.953720\n",
      "黑龙江省         281.788583\n",
      "上海市          162.744042\n",
      "江苏省         1161.757842\n",
      "浙江省          430.313731\n",
      "安徽省          537.939138\n",
      "福建省          286.649919\n",
      "江西省          355.043324\n",
      "山东省         1077.059580\n",
      "河南省          735.669618\n",
      "湖北省          339.571007\n",
      "湖南省          277.071232\n",
      "广东省          585.335305\n",
      "广西壮族自治区      292.683987\n",
      "海南省           38.497110\n",
      "重庆市          188.777327\n",
      "四川省          368.142026\n",
      "贵州省          312.118342\n",
      "云南省          220.461235\n",
      "陕西省          309.310379\n",
      "甘肃省          195.887346\n",
      "青海省           71.922291\n",
      "宁夏回族自治区      287.453344\n",
      "新疆维吾尔自治区     565.284757\n",
      "dtype: float64\n"
     ]
    }
   ],
   "source": [
    "# 计算矩阵的行和(碳流出)\n",
    "row_sums = np.sum(matrix_2017, axis=1)\n",
    "print(row_sums)"
   ]
  },
  {
   "cell_type": "code",
   "execution_count": 5,
   "id": "f83a76cb",
   "metadata": {},
   "outputs": [],
   "source": []
  },
  {
   "cell_type": "code",
   "execution_count": null,
   "id": "9c79712b",
   "metadata": {},
   "outputs": [],
   "source": [
    "# # 二维数组转换为ECharts热力图所需的格式\n",
    "# # 嵌套循环\n",
    "# data = []\n",
    "# for i in tqdm(range(len(matrix_2017))):\n",
    "#     for j in range(len(matrix_2017[i])):\n",
    "#         data.append([i, j, matrix_2017[i][j]])  # xAxis, yAxis, 值\n"
   ]
  }
 ],
 "metadata": {
  "kernelspec": {
   "display_name": "Python 3",
   "language": "python",
   "name": "python3"
  },
  "language_info": {
   "codemirror_mode": {
    "name": "ipython",
    "version": 3
   },
   "file_extension": ".py",
   "mimetype": "text/x-python",
   "name": "python",
   "nbconvert_exporter": "python",
   "pygments_lexer": "ipython3",
   "version": "3.1.undefined"
  }
 },
 "nbformat": 4,
 "nbformat_minor": 5
}
